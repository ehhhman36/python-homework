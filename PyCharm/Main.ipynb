{
 "cells": [
  {
   "cell_type": "code",
   "execution_count": 20,
   "metadata": {},
   "outputs": [],
   "source": [
    "import csv\n",
    "from pathlib import Path\n",
    "\n",
    "menu_filepath = Path('/Users/manu/desktop/gwu-virt-fin-pt-04-2021-u-c/02-Homework/02-Python/Instructions/PyRamen/Resources/menu_data.csv')\n",
    "sales_filepath = Path('/Users/manu/desktop/gwu-virt-fin-pt-04-2021-u-c/02-Homework/02-Python/Instructions/PyRamen/Resources/sales_data.csv')\n",
    "\n",
    "item = []\n",
    "catagory = []\n",
    "description = []\n",
    "price = []\n",
    "cost = []\n",
    "Line_Item_ID = []\n",
    "Date = []\n",
    "Credit_Card_Number = []\n",
    "Quantity = []\n",
    "Menu_Item = []"
   ]
  },
  {
   "cell_type": "code",
   "execution_count": 21,
   "metadata": {},
   "outputs": [
    {
     "name": "stdout",
     "output_type": "stream",
     "text": [
      "['item', 'category', 'description', 'price', 'cost']\n",
      "['Line_Item_ID', 'Date', 'Credit_Card_Number', 'Quantity', 'Menu_Item']\n"
     ]
    }
   ],
   "source": [
    "with open(menu_filepath) as csvfile:\n",
    "    csv_reader = csv.reader(csvfile)\n",
    "    header = next(csv_reader)\n",
    "    MT = len(list(csv_reader))\n",
    "    print(header)\n",
    "    for row in csv_reader:\n",
    "        print(csv_reader) \n",
    "        \n",
    "with open(sales_filepath) as csvfile:\n",
    "    csv_reader = csv.reader(csvfile)\n",
    "    header = next(csv_reader)\n",
    "    MT = len(list(csv_reader))\n",
    "    print(header)\n",
    "    for row in csv_reader:\n",
    "        print(csv_reader)"
   ]
  },
  {
   "cell_type": "code",
   "execution_count": null,
   "metadata": {},
   "outputs": [],
   "source": []
  }
 ],
 "metadata": {
  "kernelspec": {
   "display_name": "Python 3",
   "language": "python",
   "name": "python3"
  },
  "language_info": {
   "codemirror_mode": {
    "name": "ipython",
    "version": 3
   },
   "file_extension": ".py",
   "mimetype": "text/x-python",
   "name": "python",
   "nbconvert_exporter": "python",
   "pygments_lexer": "ipython3",
   "version": "3.8.5"
  }
 },
 "nbformat": 4,
 "nbformat_minor": 4
}
