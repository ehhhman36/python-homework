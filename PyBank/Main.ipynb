{
 "cells": [
  {
   "cell_type": "code",
   "execution_count": 1,
   "metadata": {},
   "outputs": [
    {
     "name": "stdout",
     "output_type": "stream",
     "text": [
      "Financial Analysis\n",
      "-------------------------\n",
      "Total Months: 86\n",
      "Total: $38382578\n",
      "Average Change: $-2315.12\n",
      "Greatest Increase in Profits: Feb-2012 ($1926159)\n",
      " Greatest Decrease in Profits: Sep-2013 ($-2196167)\n"
     ]
    }
   ],
   "source": [
    "from pathlib import Path\n",
    "import csv\n",
    "csv_path = Path(\"/Users/manu/desktop/HW_WEEK_1/python-homework/budget_data.csv\")\n",
    "\n",
    "\n",
    "# total number of months\n",
    "with open(csv_path) as csvfile:\n",
    "    csv_reader = csv.reader(csvfile)\n",
    "    header = next(csv.reader(csvfile))\n",
    "    TNOM = len(list(csv_reader))\n",
    "    for row in csv_reader:\n",
    "        print(csv_reader)\n",
    "        \n",
    "with open(csv_path) as (csvfile):\n",
    "    header = next(csv.reader(csvfile))\n",
    "    csv_reader = csv.reader(csvfile)\n",
    "    total = 0\n",
    "    total = sum(int(row[1]) for row in csv.reader(csvfile))\n",
    "    \n",
    "    \n",
    "\n",
    "#  the average of changes in the profits and losses over the entire period\n",
    "with open(csv_path) as (csvfile):\n",
    "    csv_reader = csv.reader(csvfile)\n",
    "    P_L = []\n",
    "    months =[]\n",
    "    revenue_changesList = []\n",
    "    next(csv_reader)\n",
    "    PVM = next(csv_reader)\n",
    "    PVM_1 = int(PVM[1])\n",
    "#     \n",
    "    for row in csv_reader:\n",
    "        P_L.append(int(row[1]))\n",
    "        months.append(row[0])  \n",
    "        current_revenue = int(row[1])\n",
    "        revenue_change = current_revenue - PVM_1\n",
    "        PVM_1 = current_revenue\n",
    "# average change\n",
    "        revenue_changesList.append(revenue_change)\n",
    "AVG_CHNG = sum(revenue_changesList)/(TNOM -1) \n",
    "AVG_CHNG2 = round(AVG_CHNG, 2)\n",
    "# Greatest Increase in Profits\n",
    "GIP = max(revenue_changesList)\n",
    "GDP = min(revenue_changesList)\n",
    "MoGIP = revenue_changesList.index(GIP)\n",
    "dc = months[MoGIP]\n",
    "# Greatest Decrease in Profits\n",
    "\n",
    "MoGDP = revenue_changesList.index(GDP)\n",
    "sc = months[MoGDP]\n",
    "\n",
    "\n",
    "# print statement\n",
    "\n",
    "print(\"Financial Analysis\")\n",
    "print(\"-------------------------\")\n",
    "print(f\"Total Months: {TNOM}\")\n",
    "print(f\"Total: ${total}\")\n",
    "print(f\"Average Change: ${AVG_CHNG2}\")\n",
    "print(f\"Greatest Increase in Profits: {dc} (${GIP})\")\n",
    "print(f\" Greatest Decrease in Profits: {sc} (${GDP})\")"
   ]
  },
  {
   "cell_type": "code",
   "execution_count": null,
   "metadata": {},
   "outputs": [],
   "source": [
    "\n",
    "\n",
    "\n",
    "\n",
    "\n",
    "\n",
    "\n",
    "\n",
    "\n",
    "\n",
    "\n",
    "\n"
   ]
  },
  {
   "cell_type": "code",
   "execution_count": 2,
   "metadata": {},
   "outputs": [
    {
     "name": "stdout",
     "output_type": "stream",
     "text": [
      "The net total amount of profits/losses over the entire period is 38382578\n"
     ]
    }
   ],
   "source": [
    "# net total amount of profits/losses over the entire period\n",
    "\n",
    "with open(csv_path) as (csvfile):\n",
    "    header = next(csv.reader(csvfile))\n",
    "    csv_reader = csv.reader(csvfile)\n",
    "    total = 0\n",
    "    total = sum(int(row[1]) for row in csv.reader(csvfile))\n",
    "    print(f\"The net total amount of profits/losses over the entire period is {total}\")\n",
    "        "
   ]
  },
  {
   "cell_type": "code",
   "execution_count": 249,
   "metadata": {},
   "outputs": [
    {
     "name": "stdout",
     "output_type": "stream",
     "text": [
      "1926159\n",
      "-2196167\n",
      "Feb-2012\n",
      "24\n",
      "Sep-2013\n",
      "43\n"
     ]
    }
   ],
   "source": [
    "#  the average of changes in the profits and losses over the entire period\n",
    "with open(csv_path) as (csvfile):\n",
    "    csv_reader = csv.reader(csvfile)\n",
    "    P_L = []\n",
    "    months =[]\n",
    "    revenue_changesList = []\n",
    "    next(csv_reader)\n",
    "    PVM = next(csv_reader)\n",
    "    PVM_1 = int(PVM[1])\n",
    "    for row in csv_reader:\n",
    "        P_L.append(int(row[1]))\n",
    "        months.append(row[0])  \n",
    "        current_revenue = int(row[1])\n",
    "        revenue_change = current_revenue - PVM_1\n",
    "        PVM_1 = current_revenue\n",
    "        revenue_changesList.append(revenue_change)\n",
    "AVG_CHNG = sum(revenue_changesList)/(TNOM -1) \n",
    "GIP = max(revenue_changesList)\n",
    "GDP = min(revenue_changesList)\n",
    "MoGIP = revenue_changesList.index(GIP)\n",
    "dc = months[MoGIP]\n",
    "MoGDP = revenue_changesList.index(GDP)\n",
    "sc = months[MoGDP]\n",
    "\n",
    "print(GIP)\n",
    "print(GDP)\n",
    "\n",
    "print(dc)\n",
    "print(MoGIP)\n",
    "\n",
    "print(sc)\n",
    "print(MoGDP)\n"
   ]
  },
  {
   "cell_type": "code",
   "execution_count": 250,
   "metadata": {},
   "outputs": [
    {
     "name": "stdout",
     "output_type": "stream",
     "text": [
      "Financial Analysis\n",
      "-------------------------\n",
      "Total Months: {TNOM}\n"
     ]
    }
   ],
   "source": [
    "print(\"Financial Analysis\")\n",
    "print(\"-------------------------\")\n",
    "print(\"Total Months: {TNOM}\")"
   ]
  }
 ],
 "metadata": {
  "kernelspec": {
   "display_name": "Python 3",
   "language": "python",
   "name": "python3"
  },
  "language_info": {
   "codemirror_mode": {
    "name": "ipython",
    "version": 3
   },
   "file_extension": ".py",
   "mimetype": "text/x-python",
   "name": "python",
   "nbconvert_exporter": "python",
   "pygments_lexer": "ipython3",
   "version": "3.8.5"
  }
 },
 "nbformat": 4,
 "nbformat_minor": 4
}
